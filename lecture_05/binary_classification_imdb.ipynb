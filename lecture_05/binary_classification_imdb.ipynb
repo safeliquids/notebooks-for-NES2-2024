{
  "cells": [
    {
      "cell_type": "markdown",
      "metadata": {
        "id": "view-in-github",
        "colab_type": "text"
      },
      "source": [
        "<a href=\"https://colab.research.google.com/github/safeliquids/notebooks-for-NES2-2024/blob/cv-05/lecture_05/binary_classification_imdb.ipynb\" target=\"_parent\"><img src=\"https://colab.research.google.com/assets/colab-badge.svg\" alt=\"Open In Colab\"/></a>"
      ]
    },
    {
      "cell_type": "markdown",
      "metadata": {
        "id": "2oE3eNM9dAej"
      },
      "source": [
        "# Binary classification example - classifying movie reviews from the IMDB dataset\n",
        "\n",
        "\n",
        "Based on: https://github.com/fchollet/deep-learning-with-python-notebooks/blob/master/chapter04_getting-started-with-neural-networks.ipynb\n",
        "\n",
        "IMDB Dataset is a dataset for binary sentiment classification (positive or negative reviews). It contains a set of 25,000 highly polar movie reviews for training and 25,000 for testing.\n",
        "http://ai.stanford.edu/~amaas/data/sentiment/\n",
        "https://www.kaggle.com/datasets/lakshmi25npathi/imdb-dataset-of-50k-movie-reviews\n",
        "\n",
        "\n"
      ]
    },
    {
      "cell_type": "code",
      "execution_count": 7,
      "metadata": {
        "id": "wAtekJE4c951"
      },
      "outputs": [],
      "source": [
        "import keras\n",
        "\n",
        "# Load the IMDB dataset\n",
        "from keras.datasets import imdb\n",
        "(train_data, train_labels), (test_data, test_labels) = imdb.load_data(num_words=10_000) # 10000 most common words\n",
        "\n"
      ]
    },
    {
      "cell_type": "markdown",
      "metadata": {
        "id": "L-7gfjNSoTRt"
      },
      "source": [
        "Observe the data:"
      ]
    },
    {
      "cell_type": "code",
      "execution_count": 3,
      "metadata": {
        "colab": {
          "base_uri": "https://localhost:8080/"
        },
        "id": "RKe8odjGfIzO",
        "outputId": "6edee422-a446-4b24-98b1-c801d25b3b4c"
      },
      "outputs": [
        {
          "output_type": "stream",
          "name": "stdout",
          "text": [
            "(25000,) (25000,)\n",
            "(25000,) (25000,)\n",
            "[1 0 0 1 0 0 1 0 1 0]\n",
            "[1, 14, 22, 16, 43, 530, 973, 1622, 1385, 65, 458, 4468, 66, 3941, 4, 173, 36, 256, 5, 25, 100, 43, 838, 112, 50, 670, 2, 9, 35, 480, 284, 5, 150, 4, 172, 112, 167, 2, 336, 385, 39, 4, 172, 4536, 1111, 17, 546, 38, 13, 447, 4, 192, 50, 16, 6, 147, 2025, 19, 14, 22, 4, 1920, 4613, 469, 4, 22, 71, 87, 12, 16, 43, 530, 38, 76, 15, 13, 1247, 4, 22, 17, 515, 17, 12, 16, 626, 18, 2, 5, 62, 386, 12, 8, 316, 8, 106, 5, 4, 2223, 5244, 16, 480, 66, 3785, 33, 4, 130, 12, 16, 38, 619, 5, 25, 124, 51, 36, 135, 48, 25, 1415, 33, 6, 22, 12, 215, 28, 77, 52, 5, 14, 407, 16, 82, 2, 8, 4, 107, 117, 5952, 15, 256, 4, 2, 7, 3766, 5, 723, 36, 71, 43, 530, 476, 26, 400, 317, 46, 7, 4, 2, 1029, 13, 104, 88, 4, 381, 15, 297, 98, 32, 2071, 56, 26, 141, 6, 194, 7486, 18, 4, 226, 22, 21, 134, 476, 26, 480, 5, 144, 30, 5535, 18, 51, 36, 28, 224, 92, 25, 104, 4, 226, 65, 16, 38, 1334, 88, 12, 16, 283, 5, 16, 4472, 113, 103, 32, 15, 16, 5345, 19, 178, 32]\n",
            "10000\n",
            "Training Label distribution: [12500 12500]\n",
            "Testing Label distribution: [12500 12500]\n"
          ]
        }
      ],
      "source": [
        "import numpy as np\n",
        "\n",
        "# 25000 training samples - movie reviews.\n",
        "print(train_data.shape, train_labels.shape)\n",
        "\n",
        "# 25000 testing samples - movie reviews.\n",
        "print(test_data.shape, test_labels.shape)\n",
        "\n",
        "# 2 categories: positive / negative sentinent\n",
        "print(train_labels[:10])\n",
        "\n",
        "print(train_data[0])\n",
        "\n",
        "# 10000 most common words\n",
        "dimension = max([max(sequence) for sequence in train_data])+1\n",
        "print(dimension)\n",
        "\n",
        "# Distribution of training and testing labels\n",
        "print(\"Training Label distribution:\", np.bincount(train_labels))\n",
        "print(\"Testing Label distribution:\", np.bincount(test_labels))\n",
        "\n"
      ]
    },
    {
      "cell_type": "markdown",
      "metadata": {
        "id": "Cw3ziSiGmlq1"
      },
      "source": [
        "Example of a review in the training data:"
      ]
    },
    {
      "cell_type": "code",
      "execution_count": 3,
      "metadata": {
        "colab": {
          "base_uri": "https://localhost:8080/"
        },
        "id": "a_5IeYxFlZ1V",
        "outputId": "3fac99cc-40b7-473d-e7be-21aafe3064c7"
      },
      "outputs": [
        {
          "output_type": "stream",
          "name": "stdout",
          "text": [
            "Downloading data from https://storage.googleapis.com/tensorflow/tf-keras-datasets/imdb_word_index.json\n",
            "\u001b[1m1641221/1641221\u001b[0m \u001b[32m━━━━━━━━━━━━━━━━━━━━\u001b[0m\u001b[37m\u001b[0m \u001b[1m1s\u001b[0m 1us/step\n",
            "? this film was just brilliant casting location scenery story direction everyone's really suited the part they played and you could just imagine being there robert ? is an amazing actor and now the same being director ? father came from the same scottish island as myself so i loved the fact there was a real connection with this film the witty remarks throughout the film were great it was just brilliant so much that i bought the film as soon as it was released for ? and would recommend it to everyone to watch and the fly fishing was amazing really cried at the end it was so sad and you know what they say if you cry at a film it must have been good and this definitely was also ? to the two little boy's that played the ? of norman and paul they were just brilliant children are often left out of the ? list i think because the stars that play them all grown up are such a big profile for the whole film but these children are amazing and should be praised for what they have done don't you think the whole story was so lovely because it was true and was someone's life after all that was shared with us all\n"
          ]
        }
      ],
      "source": [
        "# Get the word index from the IMDB dataset.\n",
        "# This is a dictionary mapping words to integers.\n",
        "word_index = imdb.get_word_index()\n",
        "\n",
        "# Create a reverse word index, mapping integers back to words.\n",
        "reverse_word_index = dict([(value, key) for (key, value) in word_index.items()])\n",
        "\n",
        "# Decode the first review in the training data.\n",
        "# Subtract 3 from each index to account for special tokens (padding, start of sequence, unknown).\n",
        "# Replace any unknown words with '?'.\n",
        "decoded_review = ' '.join([reverse_word_index.get(i - 3, '?') for i in train_data[0]])\n",
        "\n",
        "# Print the decoded review.\n",
        "print(decoded_review)"
      ]
    },
    {
      "cell_type": "markdown",
      "metadata": {
        "id": "dSuCWSuZqeAE"
      },
      "source": [
        "# Preprocess the data"
      ]
    },
    {
      "cell_type": "code",
      "execution_count": 4,
      "metadata": {
        "colab": {
          "base_uri": "https://localhost:8080/"
        },
        "id": "7bM0LyKvrYQG",
        "outputId": "5816b290-6178-421b-8d66-5e46fbb912d0"
      },
      "outputs": [
        {
          "output_type": "stream",
          "name": "stdout",
          "text": [
            "[0. 1. 1. ... 0. 0. 0.] (15000, 10000) [0.]\n"
          ]
        }
      ],
      "source": [
        "# 1. Vectorize the data\n",
        "def vectorize_sequences(sequences):\n",
        "    results = np.zeros((len(sequences), dimension))\n",
        "    for i, sequence in enumerate(sequences):\n",
        "        for j in sequence:\n",
        "            results[i, j] = 1.\n",
        "    return results\n",
        "\n",
        "x_train_ext = vectorize_sequences(train_data)  # Vectorize training data\n",
        "x_test = vectorize_sequences(test_data)    # Vectorize testing data\n",
        "\n",
        "y_train_ext = np.asarray(train_labels).astype('float32')  # Vectorize training labels\n",
        "y_test = np.asarray(test_labels).astype('float32')    # Vectorize testing labels\n",
        "\n",
        "\n",
        "# 2. Split the training data into training and validation sets\n",
        "# The validation set is used to monitor the performance of the model during training and prevent overfitting.\n",
        "x_val = x_train_ext[:10000]\n",
        "x_train = x_train_ext[10000:]\n",
        "y_val = y_train_ext[:10000]\n",
        "y_train = y_train_ext[10000:]\n",
        "y_train = y_train.reshape(-1, 1)  # Reshape to match output shape\n",
        "y_val = y_val.reshape(-1, 1)      # Reshape to match output shape\n",
        "y_test = y_test.reshape(-1, 1)      # Reshape to match output shape\n",
        "\n",
        "\n",
        "print(x_train[0], x_train.shape, y_train[0])"
      ]
    },
    {
      "cell_type": "markdown",
      "metadata": {
        "id": "K7IEoZegxUqY"
      },
      "source": [
        "# Define and train the model\n",
        "\n",
        "### MLP model for binary classification:\n",
        "- 'sigmoid' activation function in the output layer\n",
        "- 'relu' or 'tanh' in the hidden layers\n",
        "- BinaryCrossentropy (or MSE) loss function + BinaryAccuracy metrics (https://keras.io/api/metrics)"
      ]
    },
    {
      "cell_type": "code",
      "execution_count": 5,
      "metadata": {
        "colab": {
          "base_uri": "https://localhost:8080/",
          "height": 1000
        },
        "id": "So-wPCMDfBTN",
        "outputId": "ca765db6-5f78-41a5-b531-83814e04fb4b"
      },
      "outputs": [
        {
          "output_type": "display_data",
          "data": {
            "text/plain": [
              "\u001b[1mModel: \"sequential\"\u001b[0m\n"
            ],
            "text/html": [
              "<pre style=\"white-space:pre;overflow-x:auto;line-height:normal;font-family:Menlo,'DejaVu Sans Mono',consolas,'Courier New',monospace\"><span style=\"font-weight: bold\">Model: \"sequential\"</span>\n",
              "</pre>\n"
            ]
          },
          "metadata": {}
        },
        {
          "output_type": "display_data",
          "data": {
            "text/plain": [
              "┏━━━━━━━━━━━━━━━━━━━━━━━━━━━━━━━━━━━━━━┳━━━━━━━━━━━━━━━━━━━━━━━━━━━━━┳━━━━━━━━━━━━━━━━━┓\n",
              "┃\u001b[1m \u001b[0m\u001b[1mLayer (type)                        \u001b[0m\u001b[1m \u001b[0m┃\u001b[1m \u001b[0m\u001b[1mOutput Shape               \u001b[0m\u001b[1m \u001b[0m┃\u001b[1m \u001b[0m\u001b[1m        Param #\u001b[0m\u001b[1m \u001b[0m┃\n",
              "┡━━━━━━━━━━━━━━━━━━━━━━━━━━━━━━━━━━━━━━╇━━━━━━━━━━━━━━━━━━━━━━━━━━━━━╇━━━━━━━━━━━━━━━━━┩\n",
              "│ dense (\u001b[38;5;33mDense\u001b[0m)                        │ (\u001b[38;5;45mNone\u001b[0m, \u001b[38;5;34m16\u001b[0m)                  │         \u001b[38;5;34m160,016\u001b[0m │\n",
              "├──────────────────────────────────────┼─────────────────────────────┼─────────────────┤\n",
              "│ dense_1 (\u001b[38;5;33mDense\u001b[0m)                      │ (\u001b[38;5;45mNone\u001b[0m, \u001b[38;5;34m16\u001b[0m)                  │             \u001b[38;5;34m272\u001b[0m │\n",
              "├──────────────────────────────────────┼─────────────────────────────┼─────────────────┤\n",
              "│ dense_2 (\u001b[38;5;33mDense\u001b[0m)                      │ (\u001b[38;5;45mNone\u001b[0m, \u001b[38;5;34m1\u001b[0m)                   │              \u001b[38;5;34m17\u001b[0m │\n",
              "└──────────────────────────────────────┴─────────────────────────────┴─────────────────┘\n"
            ],
            "text/html": [
              "<pre style=\"white-space:pre;overflow-x:auto;line-height:normal;font-family:Menlo,'DejaVu Sans Mono',consolas,'Courier New',monospace\">┏━━━━━━━━━━━━━━━━━━━━━━━━━━━━━━━━━━━━━━┳━━━━━━━━━━━━━━━━━━━━━━━━━━━━━┳━━━━━━━━━━━━━━━━━┓\n",
              "┃<span style=\"font-weight: bold\"> Layer (type)                         </span>┃<span style=\"font-weight: bold\"> Output Shape                </span>┃<span style=\"font-weight: bold\">         Param # </span>┃\n",
              "┡━━━━━━━━━━━━━━━━━━━━━━━━━━━━━━━━━━━━━━╇━━━━━━━━━━━━━━━━━━━━━━━━━━━━━╇━━━━━━━━━━━━━━━━━┩\n",
              "│ dense (<span style=\"color: #0087ff; text-decoration-color: #0087ff\">Dense</span>)                        │ (<span style=\"color: #00d7ff; text-decoration-color: #00d7ff\">None</span>, <span style=\"color: #00af00; text-decoration-color: #00af00\">16</span>)                  │         <span style=\"color: #00af00; text-decoration-color: #00af00\">160,016</span> │\n",
              "├──────────────────────────────────────┼─────────────────────────────┼─────────────────┤\n",
              "│ dense_1 (<span style=\"color: #0087ff; text-decoration-color: #0087ff\">Dense</span>)                      │ (<span style=\"color: #00d7ff; text-decoration-color: #00d7ff\">None</span>, <span style=\"color: #00af00; text-decoration-color: #00af00\">16</span>)                  │             <span style=\"color: #00af00; text-decoration-color: #00af00\">272</span> │\n",
              "├──────────────────────────────────────┼─────────────────────────────┼─────────────────┤\n",
              "│ dense_2 (<span style=\"color: #0087ff; text-decoration-color: #0087ff\">Dense</span>)                      │ (<span style=\"color: #00d7ff; text-decoration-color: #00d7ff\">None</span>, <span style=\"color: #00af00; text-decoration-color: #00af00\">1</span>)                   │              <span style=\"color: #00af00; text-decoration-color: #00af00\">17</span> │\n",
              "└──────────────────────────────────────┴─────────────────────────────┴─────────────────┘\n",
              "</pre>\n"
            ]
          },
          "metadata": {}
        },
        {
          "output_type": "display_data",
          "data": {
            "text/plain": [
              "\u001b[1m Total params: \u001b[0m\u001b[38;5;34m160,305\u001b[0m (626.19 KB)\n"
            ],
            "text/html": [
              "<pre style=\"white-space:pre;overflow-x:auto;line-height:normal;font-family:Menlo,'DejaVu Sans Mono',consolas,'Courier New',monospace\"><span style=\"font-weight: bold\"> Total params: </span><span style=\"color: #00af00; text-decoration-color: #00af00\">160,305</span> (626.19 KB)\n",
              "</pre>\n"
            ]
          },
          "metadata": {}
        },
        {
          "output_type": "display_data",
          "data": {
            "text/plain": [
              "\u001b[1m Trainable params: \u001b[0m\u001b[38;5;34m160,305\u001b[0m (626.19 KB)\n"
            ],
            "text/html": [
              "<pre style=\"white-space:pre;overflow-x:auto;line-height:normal;font-family:Menlo,'DejaVu Sans Mono',consolas,'Courier New',monospace\"><span style=\"font-weight: bold\"> Trainable params: </span><span style=\"color: #00af00; text-decoration-color: #00af00\">160,305</span> (626.19 KB)\n",
              "</pre>\n"
            ]
          },
          "metadata": {}
        },
        {
          "output_type": "display_data",
          "data": {
            "text/plain": [
              "\u001b[1m Non-trainable params: \u001b[0m\u001b[38;5;34m0\u001b[0m (0.00 B)\n"
            ],
            "text/html": [
              "<pre style=\"white-space:pre;overflow-x:auto;line-height:normal;font-family:Menlo,'DejaVu Sans Mono',consolas,'Courier New',monospace\"><span style=\"font-weight: bold\"> Non-trainable params: </span><span style=\"color: #00af00; text-decoration-color: #00af00\">0</span> (0.00 B)\n",
              "</pre>\n"
            ]
          },
          "metadata": {}
        },
        {
          "output_type": "stream",
          "name": "stdout",
          "text": [
            "Epoch 1/20\n",
            "\u001b[1m30/30\u001b[0m \u001b[32m━━━━━━━━━━━━━━━━━━━━\u001b[0m\u001b[37m\u001b[0m \u001b[1m6s\u001b[0m 121ms/step - accuracy: 0.6002 - loss: 0.6380 - val_accuracy: 0.8524 - val_loss: 0.4590\n",
            "Epoch 2/20\n",
            "\u001b[1m30/30\u001b[0m \u001b[32m━━━━━━━━━━━━━━━━━━━━\u001b[0m\u001b[37m\u001b[0m \u001b[1m7s\u001b[0m 56ms/step - accuracy: 0.8903 - loss: 0.3798 - val_accuracy: 0.8841 - val_loss: 0.3159\n",
            "Epoch 3/20\n",
            "\u001b[1m30/30\u001b[0m \u001b[32m━━━━━━━━━━━━━━━━━━━━\u001b[0m\u001b[37m\u001b[0m \u001b[1m2s\u001b[0m 51ms/step - accuracy: 0.9279 - loss: 0.2391 - val_accuracy: 0.8858 - val_loss: 0.2887\n",
            "Epoch 4/20\n",
            "\u001b[1m30/30\u001b[0m \u001b[32m━━━━━━━━━━━━━━━━━━━━\u001b[0m\u001b[37m\u001b[0m \u001b[1m2s\u001b[0m 28ms/step - accuracy: 0.9473 - loss: 0.1763 - val_accuracy: 0.8888 - val_loss: 0.2770\n",
            "Epoch 5/20\n",
            "\u001b[1m30/30\u001b[0m \u001b[32m━━━━━━━━━━━━━━━━━━━━\u001b[0m\u001b[37m\u001b[0m \u001b[1m2s\u001b[0m 54ms/step - accuracy: 0.9641 - loss: 0.1282 - val_accuracy: 0.8868 - val_loss: 0.2861\n",
            "Epoch 6/20\n",
            "\u001b[1m30/30\u001b[0m \u001b[32m━━━━━━━━━━━━━━━━━━━━\u001b[0m\u001b[37m\u001b[0m \u001b[1m3s\u001b[0m 67ms/step - accuracy: 0.9763 - loss: 0.0960 - val_accuracy: 0.8850 - val_loss: 0.3050\n",
            "Epoch 7/20\n",
            "\u001b[1m30/30\u001b[0m \u001b[32m━━━━━━━━━━━━━━━━━━━━\u001b[0m\u001b[37m\u001b[0m \u001b[1m2s\u001b[0m 45ms/step - accuracy: 0.9861 - loss: 0.0685 - val_accuracy: 0.8800 - val_loss: 0.3329\n",
            "Epoch 8/20\n",
            "\u001b[1m30/30\u001b[0m \u001b[32m━━━━━━━━━━━━━━━━━━━━\u001b[0m\u001b[37m\u001b[0m \u001b[1m2s\u001b[0m 29ms/step - accuracy: 0.9920 - loss: 0.0479 - val_accuracy: 0.8797 - val_loss: 0.3547\n",
            "Epoch 9/20\n",
            "\u001b[1m30/30\u001b[0m \u001b[32m━━━━━━━━━━━━━━━━━━━━\u001b[0m\u001b[37m\u001b[0m \u001b[1m1s\u001b[0m 29ms/step - accuracy: 0.9969 - loss: 0.0320 - val_accuracy: 0.8779 - val_loss: 0.3841\n",
            "Epoch 10/20\n",
            "\u001b[1m30/30\u001b[0m \u001b[32m━━━━━━━━━━━━━━━━━━━━\u001b[0m\u001b[37m\u001b[0m \u001b[1m1s\u001b[0m 28ms/step - accuracy: 0.9981 - loss: 0.0230 - val_accuracy: 0.8763 - val_loss: 0.4098\n",
            "Epoch 11/20\n",
            "\u001b[1m30/30\u001b[0m \u001b[32m━━━━━━━━━━━━━━━━━━━━\u001b[0m\u001b[37m\u001b[0m \u001b[1m1s\u001b[0m 28ms/step - accuracy: 0.9996 - loss: 0.0153 - val_accuracy: 0.8763 - val_loss: 0.4342\n",
            "Epoch 12/20\n",
            "\u001b[1m30/30\u001b[0m \u001b[32m━━━━━━━━━━━━━━━━━━━━\u001b[0m\u001b[37m\u001b[0m \u001b[1m1s\u001b[0m 27ms/step - accuracy: 0.9998 - loss: 0.0104 - val_accuracy: 0.8734 - val_loss: 0.4578\n",
            "Epoch 13/20\n",
            "\u001b[1m30/30\u001b[0m \u001b[32m━━━━━━━━━━━━━━━━━━━━\u001b[0m\u001b[37m\u001b[0m \u001b[1m1s\u001b[0m 29ms/step - accuracy: 0.9997 - loss: 0.0089 - val_accuracy: 0.8726 - val_loss: 0.4778\n",
            "Epoch 14/20\n",
            "\u001b[1m30/30\u001b[0m \u001b[32m━━━━━━━━━━━━━━━━━━━━\u001b[0m\u001b[37m\u001b[0m \u001b[1m1s\u001b[0m 47ms/step - accuracy: 0.9999 - loss: 0.0062 - val_accuracy: 0.8737 - val_loss: 0.4972\n",
            "Epoch 15/20\n",
            "\u001b[1m30/30\u001b[0m \u001b[32m━━━━━━━━━━━━━━━━━━━━\u001b[0m\u001b[37m\u001b[0m \u001b[1m2s\u001b[0m 29ms/step - accuracy: 0.9999 - loss: 0.0049 - val_accuracy: 0.8722 - val_loss: 0.5143\n",
            "Epoch 16/20\n",
            "\u001b[1m30/30\u001b[0m \u001b[32m━━━━━━━━━━━━━━━━━━━━\u001b[0m\u001b[37m\u001b[0m \u001b[1m1s\u001b[0m 28ms/step - accuracy: 1.0000 - loss: 0.0040 - val_accuracy: 0.8726 - val_loss: 0.5303\n",
            "Epoch 17/20\n",
            "\u001b[1m30/30\u001b[0m \u001b[32m━━━━━━━━━━━━━━━━━━━━\u001b[0m\u001b[37m\u001b[0m \u001b[1m1s\u001b[0m 28ms/step - accuracy: 0.9999 - loss: 0.0032 - val_accuracy: 0.8726 - val_loss: 0.5438\n",
            "Epoch 18/20\n",
            "\u001b[1m30/30\u001b[0m \u001b[32m━━━━━━━━━━━━━━━━━━━━\u001b[0m\u001b[37m\u001b[0m \u001b[1m1s\u001b[0m 26ms/step - accuracy: 1.0000 - loss: 0.0028 - val_accuracy: 0.8722 - val_loss: 0.5576\n",
            "Epoch 19/20\n",
            "\u001b[1m30/30\u001b[0m \u001b[32m━━━━━━━━━━━━━━━━━━━━\u001b[0m\u001b[37m\u001b[0m \u001b[1m1s\u001b[0m 29ms/step - accuracy: 0.9998 - loss: 0.0024 - val_accuracy: 0.8725 - val_loss: 0.5694\n",
            "Epoch 20/20\n",
            "\u001b[1m30/30\u001b[0m \u001b[32m━━━━━━━━━━━━━━━━━━━━\u001b[0m\u001b[37m\u001b[0m \u001b[1m1s\u001b[0m 27ms/step - accuracy: 0.9999 - loss: 0.0020 - val_accuracy: 0.8728 - val_loss: 0.5817\n",
            "\u001b[1m782/782\u001b[0m \u001b[32m━━━━━━━━━━━━━━━━━━━━\u001b[0m\u001b[37m\u001b[0m \u001b[1m3s\u001b[0m 3ms/step - accuracy: 0.8580 - loss: 0.6371\n",
            "Test accuracy: 0.8607199788093567 \n",
            "Test loss: 0.6277482509613037\n"
          ]
        }
      ],
      "source": [
        "###############################################\n",
        "# Define the log directory for TensorBoard\n",
        "import os\n",
        "import datetime\n",
        "import keras\n",
        "import tensorflow as tf\n",
        "\n",
        "model_datetime_name = \"imdb_mlp_\"+  datetime.datetime.now().strftime(\"%Y%m%d-%H%M%S\")\n",
        "log_dir = \"./logs/fit_imdb/\" + model_datetime_name\n",
        "# print(os.getcwd())\n",
        "\n",
        "# Clear any logs from previous runs\n",
        "# !rm -rf ./logs/\n",
        "\n",
        "# Ensure the directory exists\n",
        "if not os.path.exists(os.path.dirname(log_dir)):\n",
        "    os.makedirs(os.path.dirname(log_dir))\n",
        "\n",
        "###############################################\n",
        "# Initialize Tensorboard callback\n",
        "tensorboard_callback = keras.callbacks.TensorBoard(\n",
        "    log_dir=log_dir,\n",
        "    histogram_freq=1,  # Visualize histograms of layer weights\n",
        "    write_graph=True,  # Log the graph to visualize the model structure\n",
        "    write_images=True  # Optionally, save images of weights and activation histograms\n",
        "    # update_freq='batch'  # Log metrics after every batch\n",
        "    # write_steps_per_second=True  # Log steps per second during training\n",
        ")\n",
        "################################################\n",
        "\n",
        "\n",
        "# define the model architecture\n",
        "model = keras.Sequential([\n",
        "    keras.layers.InputLayer(shape=(10000,)),\n",
        "    keras.layers.Dense(16, activation='relu'),\n",
        "    keras.layers.Dense(16, activation='relu'),\n",
        "    keras.layers.Dense(1, activation='sigmoid')  # output layer\n",
        "])\n",
        "\n",
        "model.summary()\n",
        "\n",
        "# Set model parameters\n",
        "model.compile(optimizer= keras.optimizers.Adam(learning_rate=0.001),\n",
        "              loss= keras.losses.BinaryCrossentropy(),\n",
        "              metrics= [keras.metrics.BinaryAccuracy(\"accuracy\")])\n",
        "\n",
        "\n",
        "num_epochs = 20\n",
        "batch_size = 512\n",
        "\n",
        "# Train the model\n",
        "history = model.fit(x_train,\n",
        "                    y_train,\n",
        "                    epochs=num_epochs,\n",
        "                    batch_size=batch_size,\n",
        "                    validation_data=(x_val, y_val),\n",
        "                    callbacks=[tensorboard_callback])\n",
        "\n",
        "# Evaluate the model on the test set\n",
        "test_loss, test_acc = model.evaluate(x_test, y_test)\n",
        "print('Test accuracy:', test_acc, '\\nTest loss:', test_loss)\n",
        "\n",
        "# Save the model\n",
        "model_dir = \"./models/\"\n",
        "\n",
        "# Ensure the directory exists\n",
        "if not os.path.exists(os.path.dirname(model_dir)):\n",
        "    os.makedirs(os.path.dirname(model_dir))\n",
        "# Create a unique model name using the current date and time\n",
        "model_name = model_dir + model_datetime_name + \".keras\"\n",
        "# Save the model with the generated name\n",
        "model.save(model_name)"
      ]
    },
    {
      "cell_type": "code",
      "execution_count": 6,
      "metadata": {
        "colab": {
          "base_uri": "https://localhost:8080/",
          "height": 1000
        },
        "id": "ejGczZ600nS5",
        "outputId": "d6717538-3d4c-4800-9a52-b00ffd85dc94"
      },
      "outputs": [
        {
          "output_type": "stream",
          "name": "stdout",
          "text": [
            "dict_keys(['accuracy', 'loss', 'val_accuracy', 'val_loss'])\n"
          ]
        },
        {
          "output_type": "display_data",
          "data": {
            "text/plain": [
              "<Figure size 640x480 with 1 Axes>"
            ],
            "image/png": "[encoded data removed]"
          },
          "metadata": {}
        },
        {
          "output_type": "display_data",
          "data": {
            "text/plain": [
              "<Figure size 640x480 with 1 Axes>"
            ],
            "image/png": "[encoded data removed]"
          },
          "metadata": {}
        },
        {
          "output_type": "stream",
          "name": "stdout",
          "text": [
            "\u001b[1m469/469\u001b[0m \u001b[32m━━━━━━━━━━━━━━━━━━━━\u001b[0m\u001b[37m\u001b[0m \u001b[1m1s\u001b[0m 3ms/step - accuracy: 0.9999 - loss: 0.0018\n",
            "Training accuracy: 0.9999333620071411 \n",
            "Train loss: 0.0017803303198888898\n",
            "\u001b[1m313/313\u001b[0m \u001b[32m━━━━━━━━━━━━━━━━━━━━\u001b[0m\u001b[37m\u001b[0m \u001b[1m1s\u001b[0m 3ms/step - accuracy: 0.8724 - loss: 0.5787\n",
            "Validation accuracy: 0.8727999925613403 \n",
            "Val loss: 0.5816663503646851\n",
            "\u001b[1m782/782\u001b[0m \u001b[32m━━━━━━━━━━━━━━━━━━━━\u001b[0m\u001b[37m\u001b[0m \u001b[1m2s\u001b[0m 3ms/step - accuracy: 0.8580 - loss: 0.6371\n",
            "Test accuracy: 0.8607199788093567 \n",
            "Test loss: 0.6277482509613037\n"
          ]
        }
      ],
      "source": [
        "# plot the training progress:\n",
        "import matplotlib.pyplot as plt\n",
        "\n",
        "history_dict = history.history\n",
        "print(history_dict.keys())\n",
        "\n",
        "\n",
        "# Plot training & validation accuracy values\n",
        "plt.plot(history.history['accuracy'])\n",
        "plt.plot(history.history['val_accuracy'])\n",
        "plt.title('Model accuracy')\n",
        "plt.ylabel('Accuracy')\n",
        "plt.xlabel('Epoch')\n",
        "plt.legend(['Train', 'Validation'], loc='upper left')\n",
        "plt.show()\n",
        "\n",
        "# Plot training & validation loss values\n",
        "plt.plot(history.history['loss'])\n",
        "plt.plot(history.history['val_loss'])\n",
        "plt.title('Model loss')\n",
        "plt.ylabel('Loss')\n",
        "plt.xlabel('Epoch')\n",
        "plt.legend(['Train', 'Validation'], loc='upper left')\n",
        "plt.show()\n",
        "\n",
        "# Evaluate the model on the training set\n",
        "train_loss, train_acc = model.evaluate(x_train, y_train)\n",
        "print('Training accuracy:', train_acc, '\\nTrain loss:', train_loss)\n",
        "\n",
        "# Evaluate the model on the validation set\n",
        "val_loss, val_acc = model.evaluate(x_val, y_val)\n",
        "print('Validation accuracy:', val_acc, '\\nVal loss:', val_loss)\n",
        "\n",
        "# Evaluate the model on the test set\n",
        "test_loss, test_acc = model.evaluate(x_test, y_test)\n",
        "print('Test accuracy:', test_acc, '\\nTest loss:', test_loss)"
      ]
    },
    {
      "cell_type": "markdown",
      "metadata": {
        "id": "OtiWF5QTp1IB"
      },
      "source": [
        "## Evaluate the model and make predictions on new data"
      ]
    },
    {
      "cell_type": "code",
      "execution_count": 7,
      "metadata": {
        "colab": {
          "base_uri": "https://localhost:8080/"
        },
        "id": "Tl8Fl7oJefyf",
        "outputId": "4b2b7d56-9eb6-484c-d097-6964a458882c"
      },
      "outputs": [
        {
          "output_type": "stream",
          "name": "stdout",
          "text": [
            "\u001b[1m782/782\u001b[0m \u001b[32m━━━━━━━━━━━━━━━━━━━━\u001b[0m\u001b[37m\u001b[0m \u001b[1m2s\u001b[0m 2ms/step\n",
            "Number of misclassified samples: 3564\n",
            "\n",
            "Misclassified Sample 1:\n",
            "Predicted Class: 1\n",
            "True Class: 0.0\n",
            "Review: ? i generally love this type of movie however this time i found myself wanting to kick the screen since i can't do that i will just complain about it this was absolutely idiotic the things that happen with the dead kids are very cool but the alive people are absolute idiots i am a grown man pretty big and i can defend myself well however i would not do half the stuff the little girl does in this movie also the mother in this movie is reckless with her children to the point of neglect i wish i wasn't so angry about her and her actions because i would have otherwise enjoyed the flick what a number she was take my advise and fast forward through everything you see her do until the end also is anyone else getting sick of watching movies that are filmed so dark anymore one can hardly see what is being filmed as an audience we are ? involved with the actions on the screen so then why the hell can't we have night vision\n",
            "\n",
            "Misclassified Sample 2:\n",
            "Predicted Class: 1\n",
            "True Class: 0.0\n",
            "Review: ? hollywood had a long love affair with bogus ? nights tales but few of these products have stood the test of time the most memorable were the jon hall maria ? films which have long since become camp this one is filled with dubbed songs ? ? and slapstick it's a truly crop of corn and pretty near ? today it was nominated for its imaginative special effects which are almost ? in this day and age ? mainly of trick photography the only outstanding positive feature which survives is its beautiful color and clarity sad to say of the many films made in this genre few of them come up to alexander ? original thief of ? almost any other ? nights film is superior to this one though it's a loser\n",
            "\n",
            "Misclassified Sample 3:\n",
            "Predicted Class: 1\n",
            "True Class: 0.0\n",
            "Review: ? ed ? mitchell is a teenager who lives for his job at good ? a small but friendly neighborhood ? stand while his buddy ? thompson also works there but lack ? single minded devotion to his job he's there because he accidentally destroyed the car of his teacher mr ? ? and has to raise money to pay the ? when ? ? a ? fast foot chain opens across the street it looks like good ? is history until ed ? a secret ? that brings hundreds of new customers to their door however the ? manager of ? ? kurt jan is determined to get his hands on the ? and put good ? out of business meanwhile ed and ? must rescue ? ? ? the world's oldest fast food employee from the demented hills asylum and ed might just find love with ? jackson if he could take his mind off the ? long enough to pay attention to her good ? is a comedy directed for kids decent story acting and overall a pretty harmless kids movie\n",
            "\n",
            "Misclassified Sample 4:\n",
            "Predicted Class: 0\n",
            "True Class: 1.0\n",
            "Review: ? how managed to avoid attention remains a mystery a potent mix of comedy and crime this one takes chances where tarantino plays it safe with the hollywood formula the risks don't always pay off one character in one sequence comes off ? silly and falls flat in the lead role thomas jane gives a wonderful and complex performance and two brief appearances by mickey rourke hint at the high potential of this much under and ? used actor here's a director one should keep one's eye on\n",
            "\n",
            "Misclassified Sample 5:\n",
            "Predicted Class: 0\n",
            "True Class: 1.0\n",
            "Review: ? if you expect that this movie is full of action and grabbing you from the start then don't watch it but if you like those kind of ? movies which stick in your mind for a while until you get the details then you will love it now don't get me wrong there is action and there are things going on just not in the usual way br br basically the plot is in a post apocalyptic world where anyone fights in his or their way for survival in this fight they lost the ability to speak i don't want to write more to not spoil the movie for you but trust me if you like sf authors like or or even some from orson scott card you will love this movie\n"
          ]
        }
      ],
      "source": [
        "\n",
        "# Get predicted probabilities for the test set\n",
        "y_pred_probs = model.predict(x_test)\n",
        "\n",
        "# Convert probabilities to class predictions (0 or 1)\n",
        "y_pred = (y_pred_probs > 0.5).astype(int)\n",
        "\n",
        "# Find the indices of misclassified samples\n",
        "misclassified_indices = np.where(y_pred != y_test)[0]\n",
        "\n",
        "# Print the number of misclassified samples\n",
        "print(\"Number of misclassified samples:\", len(misclassified_indices))\n",
        "\n",
        "# Print examples of misclassified samples (e.g., first 5)\n",
        "num_examples_to_show = 5\n",
        "for i in range(min(num_examples_to_show, len(misclassified_indices))):\n",
        "    index = misclassified_indices[i]\n",
        "    decoded_review = ' '.join([reverse_word_index.get(i - 3, '?') for i in test_data[index]])\n",
        "    print(f\"\\nMisclassified Sample {i+1}:\")\n",
        "    print(\"Predicted Class:\", y_pred[index][0])\n",
        "    print(\"True Class:\", y_test[index][0])\n",
        "    print(\"Review:\", decoded_review)"
      ]
    },
    {
      "cell_type": "markdown",
      "metadata": {
        "id": "k9mRBRIAp1IC"
      },
      "source": [
        "# Summary\n",
        "\n",
        "1. For binary classification, the loss function BinaryCrossentropy is used (though MSE can also be used), and the metric is BinaryAccuracy. A sigmoid activation function is chosen for the output layer.\n",
        "2. If input vectors have different lengths, they need to be adjusted to have the same length.\n",
        "3. Word index is the simplest way to encode texts (but there are better approaches like TF-IDF, Word Embeddings, etc.).\n",
        "4. To evaluate how well the model is learning and generalizing, a validation dataset is used.\n"
      ]
    },
    {
      "cell_type": "markdown",
      "metadata": {
        "id": "7NBDvpMDefyg"
      },
      "source": [
        "# Exercises\n",
        "1. **Change the number of epochs** to avoid overtraining. Compare the errors on the validation and the test sets.\n",
        "2. **Implement early stopping** to avoid overtraining. Compare the errors.\n",
        "3. **Change the number of neurons or layers.** See how this affects the accuracy of the model and the learning curves.\n",
        "You can also experiment with different **activation functions**\n",
        "in the hidden layers.\n",
        "4. **Change the loss function**.\n",
        "Try using the mse (mean squared error) loss function and compare the results.\n"
      ]
    },
    {
      "cell_type": "markdown",
      "source": [
        "## Exercise 1\n",
        "\n",
        "Change the number of epochs to avoid overtraining. Compare the errors on the valiadation and test sets.\n",
        "\n",
        "Graph above shows that validation set loss reaches minimum around the 4-th or 5-th epoch. Stopping there should lead to less over-fitting."
      ],
      "metadata": {
        "id": "XAxWmCcuxUBs"
      }
    },
    {
      "cell_type": "code",
      "source": [
        "# same architecture and parameters as above\n",
        "new_model = keras.Sequential([\n",
        "    keras.layers.InputLayer(shape=(10000,)),\n",
        "    keras.layers.Dense(16, activation='relu'),\n",
        "    keras.layers.Dense(16, activation='relu'),\n",
        "    keras.layers.Dense(1, activation='sigmoid')\n",
        "])\n",
        "new_model.compile(\n",
        "    optimizer= keras.optimizers.Adam(learning_rate=0.001),\n",
        "    loss= keras.losses.BinaryCrossentropy(),\n",
        "    metrics= [keras.metrics.BinaryAccuracy(\"accuracy\")])\n",
        "new_history = new_model.fit(\n",
        "    x_train,\n",
        "    y_train,\n",
        "    epochs=4,\n",
        "    batch_size=batch_size,\n",
        "    validation_data=(x_val, y_val),\n",
        "    callbacks=[tensorboard_callback])"
      ],
      "metadata": {
        "colab": {
          "base_uri": "https://localhost:8080/"
        },
        "id": "jsv8IU7rxSq3",
        "outputId": "34839907-17b9-4523-9d99-122223b95ae3"
      },
      "execution_count": 8,
      "outputs": [
        {
          "output_type": "stream",
          "name": "stdout",
          "text": [
            "Epoch 1/4\n",
            "\u001b[1m30/30\u001b[0m \u001b[32m━━━━━━━━━━━━━━━━━━━━\u001b[0m\u001b[37m\u001b[0m \u001b[1m4s\u001b[0m 95ms/step - accuracy: 0.7001 - loss: 0.6165 - val_accuracy: 0.8630 - val_loss: 0.3799\n",
            "Epoch 2/4\n",
            "\u001b[1m30/30\u001b[0m \u001b[32m━━━━━━━━━━━━━━━━━━━━\u001b[0m\u001b[37m\u001b[0m \u001b[1m1s\u001b[0m 28ms/step - accuracy: 0.8938 - loss: 0.3127 - val_accuracy: 0.8898 - val_loss: 0.2882\n",
            "Epoch 3/4\n",
            "\u001b[1m30/30\u001b[0m \u001b[32m━━━━━━━━━━━━━━━━━━━━\u001b[0m\u001b[37m\u001b[0m \u001b[1m1s\u001b[0m 34ms/step - accuracy: 0.9387 - loss: 0.1954 - val_accuracy: 0.8886 - val_loss: 0.2763\n",
            "Epoch 4/4\n",
            "\u001b[1m30/30\u001b[0m \u001b[32m━━━━━━━━━━━━━━━━━━━━\u001b[0m\u001b[37m\u001b[0m \u001b[1m1s\u001b[0m 48ms/step - accuracy: 0.9579 - loss: 0.1355 - val_accuracy: 0.8833 - val_loss: 0.2905\n"
          ]
        }
      ]
    },
    {
      "cell_type": "code",
      "source": [
        "def print_results(name: str, results: dict[str, float]):\n",
        "    print(name)\n",
        "    for label, score in results.items():\n",
        "        print(\"\\t{: <10} {:.6}\".format(label, score))"
      ],
      "metadata": {
        "id": "mW3ZA8OxhEjA"
      },
      "execution_count": 5,
      "outputs": []
    },
    {
      "cell_type": "code",
      "source": [
        "train_results = new_model.evaluate(x_train, y_train, verbose=0, return_dict=True)\n",
        "val_results = new_model.evaluate(x_val, y_val, verbose=0, return_dict=True)\n",
        "test_results = new_model.evaluate(x_test, y_test, verbose=0, return_dict=True)\n",
        "print_results(\"Training set results\", train_results)\n",
        "print_results(\"Validation set results\", val_results)\n",
        "print_results(\"Test set results\", test_results)"
      ],
      "metadata": {
        "colab": {
          "base_uri": "https://localhost:8080/"
        },
        "id": "CZXD44F-24T5",
        "outputId": "ff7b4bb2-76ce-41d8-edea-4393c33f673b"
      },
      "execution_count": 9,
      "outputs": [
        {
          "output_type": "stream",
          "name": "stdout",
          "text": [
            "Training set results\n",
            "\taccuracy   0.972933\n",
            "\tloss       0.105232\n",
            "Validation set results\n",
            "\taccuracy   0.8833\n",
            "\tloss       0.290547\n",
            "Test set results\n",
            "\taccuracy   0.87632\n",
            "\tloss       0.31433\n"
          ]
        }
      ]
    },
    {
      "cell_type": "markdown",
      "source": [
        "## Exercise 2\n",
        "Implement early stopping to avoid overtraining. Compare the errors.\n",
        "\n",
        "We incrementally fit the model. (Accdg. to [this discussion](https://github.com/keras-team/keras/issues/4446) this can be done by successibe calls to `model.fit()`) Once the loss on the validation set starts increasing, stop iterating."
      ],
      "metadata": {
        "id": "MlDMO7wr9FOQ"
      }
    },
    {
      "cell_type": "code",
      "source": [
        "model_2 = keras.Sequential([\n",
        "    keras.layers.InputLayer(shape=(10000,)),\n",
        "    keras.layers.Dense(16, activation=\"relu\"),\n",
        "    keras.layers.Dense(16, activation=\"relu\"),\n",
        "    keras.layers.Dense(1, activation=\"sigmoid\"),\n",
        "])\n",
        "model_2.compile(\n",
        "    optimizer=keras.optimizers.Adam(learning_rate=0.001),\n",
        "    loss=keras.losses.BinaryCrossentropy(),\n",
        "    metrics=[ keras.metrics.BinaryAccuracy(\"accuracy\") ])\n",
        "train_results_0 = model_2.evaluate(x_train, y_train, verbose=0, return_dict=True)\n",
        "val_results_0 = model_2.evaluate(x_val, y_val, verbose=0, return_dict=True)\n",
        "history_2 = {\n",
        "    \"accuracy\": [train_results_0[\"accuracy\"]],\n",
        "    \"loss\": [train_results_0[\"loss\"]],\n",
        "    \"val_accuracy\": [val_results_0[\"accuracy\"]],\n",
        "    \"val_loss\": [val_results_0[\"loss\"]]\n",
        "}\n",
        "names = [\"accuracy\", \"loss\", \"val_accuracy\", \"val_loss\"]\n",
        "epoch_count = 0\n",
        "while True and epoch_count < 20:\n",
        "    epoch_count += 1\n",
        "    history = model_2.fit(\n",
        "        x_train, y_train, epochs=1, batch_size=batch_size,\n",
        "        validation_data=(x_val, y_val))\n",
        "    for na in names:\n",
        "        history_2[na].append(history.history[na][0])\n",
        "    if epoch_count >= 2 and history_2[\"val_loss\"][-1] > history_2[\"val_loss\"][-2]:\n",
        "        break"
      ],
      "metadata": {
        "colab": {
          "base_uri": "https://localhost:8080/"
        },
        "id": "9_N_SHf291UZ",
        "outputId": "13080f8f-c2d9-4fc5-c0fe-4e435bf2ffa7"
      },
      "execution_count": 26,
      "outputs": [
        {
          "output_type": "stream",
          "name": "stdout",
          "text": [
            "\u001b[1m30/30\u001b[0m \u001b[32m━━━━━━━━━━━━━━━━━━━━\u001b[0m\u001b[37m\u001b[0m \u001b[1m6s\u001b[0m 125ms/step - accuracy: 0.6579 - loss: 0.6377 - val_accuracy: 0.8522 - val_loss: 0.4172\n",
            "\u001b[1m30/30\u001b[0m \u001b[32m━━━━━━━━━━━━━━━━━━━━\u001b[0m\u001b[37m\u001b[0m \u001b[1m2s\u001b[0m 56ms/step - accuracy: 0.8881 - loss: 0.3412 - val_accuracy: 0.8836 - val_loss: 0.3007\n",
            "\u001b[1m30/30\u001b[0m \u001b[32m━━━━━━━━━━━━━━━━━━━━\u001b[0m\u001b[37m\u001b[0m \u001b[1m2s\u001b[0m 57ms/step - accuracy: 0.9341 - loss: 0.2094 - val_accuracy: 0.8889 - val_loss: 0.2767\n",
            "\u001b[1m30/30\u001b[0m \u001b[32m━━━━━━━━━━━━━━━━━━━━\u001b[0m\u001b[37m\u001b[0m \u001b[1m2s\u001b[0m 60ms/step - accuracy: 0.9521 - loss: 0.1544 - val_accuracy: 0.8847 - val_loss: 0.2852\n"
          ]
        }
      ]
    },
    {
      "cell_type": "code",
      "source": [
        "train_results = model_2.evaluate(x_train, y_train, verbose=0, return_dict=True)\n",
        "val_results = model_2.evaluate(x_val, y_val, verbose=0, return_dict=True)\n",
        "test_results = model_2.evaluate(x_test, y_test, verbose=0, return_dict=True)"
      ],
      "metadata": {
        "id": "BMAEFJUzt9aS"
      },
      "execution_count": 27,
      "outputs": []
    },
    {
      "cell_type": "code",
      "source": [
        "print(\"# of epochs:\", epoch_count)\n",
        "\n",
        "print_results(\"Training set results\", train_results)\n",
        "print_results(\"Validation set results\", val_results)\n",
        "print_results(\"Test set results\", test_results)\n",
        "\n",
        "subplot_kwords = {\n",
        "    \"xticks\": list(range(epoch_count + 1)),\n",
        "    \"xlabel\": \"Epoch no.\",\n",
        "    \"ylabel\": \"Accuracy, Loss\",\n",
        "    \"ylim\": (0, None)\n",
        "}\n",
        "fig, axs = plt.subplots(2, 1, subplot_kw=subplot_kwords, layout=\"tight\", sharex=True)\n",
        "axs[0].set_title(\"Accuracy\")\n",
        "axs[0].plot(history_2[\"accuracy\"], label=\"training\")\n",
        "axs[0].plot(history_2[\"val_accuracy\"], label=\"validation\")\n",
        "\n",
        "axs[1].set_title(\"Loss\")\n",
        "axs[1].plot(history_2[\"loss\"], label=\"training\")\n",
        "axs[1].plot(history_2[\"val_loss\"], label=\"validation\")\n",
        "\n",
        "axs[0].legend(loc=\"best\")\n",
        "axs[1].legend(loc=\"best\")\n",
        "# fig.tight_layout()\n",
        "\n",
        "fig.show()"
      ],
      "metadata": {
        "colab": {
          "base_uri": "https://localhost:8080/",
          "height": 666
        },
        "id": "D6sBfbikpfUZ",
        "outputId": "e1bdb0c6-ff71-46e7-fab0-14b8dc0d77d4"
      },
      "execution_count": 29,
      "outputs": [
        {
          "output_type": "stream",
          "name": "stdout",
          "text": [
            "# of epochs: 4\n",
            "Training set results\n",
            "\taccuracy   0.966933\n",
            "\tloss       0.11788\n",
            "Validation set results\n",
            "\taccuracy   0.8847\n",
            "\tloss       0.285172\n",
            "Test set results\n",
            "\taccuracy   0.88028\n",
            "\tloss       0.301675\n"
          ]
        },
        {
          "output_type": "display_data",
          "data": {
            "text/plain": [
              "<Figure size 640x480 with 2 Axes>"
            ],
            "image/png": "[encoded data removed]"
          },
          "metadata": {}
        }
      ]
    },
    {
      "cell_type": "markdown",
      "source": [
        "## Exercise 3\n",
        "\n",
        "Change the number of neurons or layers. See how this affects the accuracy\n",
        "of the model and the learning curves. You can also experiment with\n",
        "different activation functions in the hidden layers."
      ],
      "metadata": {
        "id": "5sbH1w6OwHmf"
      }
    },
    {
      "cell_type": "code",
      "source": [
        "from keras.callbacks import EarlyStopping\n",
        "early_stopping = EarlyStopping(monitor=\"val_loss\", patience=3, restore_best_weights=True)\n",
        "\n",
        "model_3 = keras.Sequential([\n",
        "    keras.layers.InputLayer(shape=(10000,)),\n",
        "    keras.layers.Dense(6000, activation='relu'),\n",
        "    keras.layers.Dense(200, activation='relu'),\n",
        "    keras.layers.Dense(32, activation='tanh'),\n",
        "    keras.layers.Dense(32, activation='tanh'),\n",
        "    keras.layers.Dense(32, activation='relu'),\n",
        "    keras.layers.Dense(10, activation='relu'),\n",
        "    keras.layers.Dense(1, activation='sigmoid')  # output layer\n",
        "])\n",
        "\n",
        "# still some problems, exponential learning rate decays too quickly,\n",
        "# leading to overfitting\n",
        "# Adadelta seems to be a good choice, but could try Adam or SGD again with\n",
        "# different topology\n",
        "lr_object = keras.optimizers.schedules.ExponentialDecay(\n",
        "    0.01, 50, 0.98)\n",
        "model_3.compile(\n",
        "    optimizer= keras.optimizers.Adadelta(learning_rate=lr_object),\n",
        "    loss= keras.losses.BinaryCrossentropy(),\n",
        "    metrics= [keras.metrics.BinaryAccuracy(\"accuracy\")])\n",
        "\n",
        "num_epochs = 60\n",
        "batch_size = 512\n",
        "\n",
        "history_3 = model_3.fit(\n",
        "    x_train,\n",
        "    y_train,\n",
        "    epochs=num_epochs,\n",
        "    batch_size=batch_size,\n",
        "    validation_data=(x_val, y_val),\n",
        "    callbacks=[early_stopping])\n",
        "\n",
        "train_results = model_3.evaluate(x_train, y_train, verbose=0, return_dict=True)\n",
        "val_results = model_3.evaluate(x_val, y_val, verbose=0, return_dict=True)\n",
        "test_results = model_3.evaluate(x_test, y_test, verbose=0, return_dict=True)\n",
        "\n",
        "print_results(\"Training set results\", train_results)\n",
        "print_results(\"Validation set results\", val_results)\n",
        "print_results(\"Test set results\", test_results)\n"
      ],
      "metadata": {
        "colab": {
          "base_uri": "https://localhost:8080/"
        },
        "id": "XpepeSJ1wHKT",
        "outputId": "eb7b5829-18f6-4472-b34e-007a1f9eb58d"
      },
      "execution_count": 23,
      "outputs": [
        {
          "output_type": "stream",
          "name": "stdout",
          "text": [
            "Epoch 1/60\n",
            "\u001b[1m30/30\u001b[0m \u001b[32m━━━━━━━━━━━━━━━━━━━━\u001b[0m\u001b[37m\u001b[0m \u001b[1m9s\u001b[0m 186ms/step - accuracy: 0.5140 - loss: 0.6928 - val_accuracy: 0.5277 - val_loss: 0.6920\n",
            "Epoch 2/60\n",
            "\u001b[1m30/30\u001b[0m \u001b[32m━━━━━━━━━━━━━━━━━━━━\u001b[0m\u001b[37m\u001b[0m \u001b[1m2s\u001b[0m 68ms/step - accuracy: 0.5405 - loss: 0.6913 - val_accuracy: 0.5468 - val_loss: 0.6903\n",
            "Epoch 3/60\n",
            "\u001b[1m30/30\u001b[0m \u001b[32m━━━━━━━━━━━━━━━━━━━━\u001b[0m\u001b[37m\u001b[0m \u001b[1m2s\u001b[0m 80ms/step - accuracy: 0.5692 - loss: 0.6887 - val_accuracy: 0.5702 - val_loss: 0.6876\n",
            "Epoch 4/60\n",
            "\u001b[1m30/30\u001b[0m \u001b[32m━━━━━━━━━━━━━━━━━━━━\u001b[0m\u001b[37m\u001b[0m \u001b[1m2s\u001b[0m 78ms/step - accuracy: 0.6002 - loss: 0.6850 - val_accuracy: 0.6145 - val_loss: 0.6836\n",
            "Epoch 5/60\n",
            "\u001b[1m30/30\u001b[0m \u001b[32m━━━━━━━━━━━━━━━━━━━━\u001b[0m\u001b[37m\u001b[0m \u001b[1m2s\u001b[0m 76ms/step - accuracy: 0.6468 - loss: 0.6802 - val_accuracy: 0.6781 - val_loss: 0.6757\n",
            "Epoch 6/60\n",
            "\u001b[1m30/30\u001b[0m \u001b[32m━━━━━━━━━━━━━━━━━━━━\u001b[0m\u001b[37m\u001b[0m \u001b[1m2s\u001b[0m 69ms/step - accuracy: 0.6994 - loss: 0.6701 - val_accuracy: 0.7108 - val_loss: 0.6629\n",
            "Epoch 7/60\n",
            "\u001b[1m30/30\u001b[0m \u001b[32m━━━━━━━━━━━━━━━━━━━━\u001b[0m\u001b[37m\u001b[0m \u001b[1m2s\u001b[0m 76ms/step - accuracy: 0.7339 - loss: 0.6559 - val_accuracy: 0.7411 - val_loss: 0.6497\n",
            "Epoch 8/60\n",
            "\u001b[1m30/30\u001b[0m \u001b[32m━━━━━━━━━━━━━━━━━━━━\u001b[0m\u001b[37m\u001b[0m \u001b[1m2s\u001b[0m 75ms/step - accuracy: 0.7582 - loss: 0.6425 - val_accuracy: 0.7516 - val_loss: 0.6336\n",
            "Epoch 9/60\n",
            "\u001b[1m30/30\u001b[0m \u001b[32m━━━━━━━━━━━━━━━━━━━━\u001b[0m\u001b[37m\u001b[0m \u001b[1m3s\u001b[0m 78ms/step - accuracy: 0.7752 - loss: 0.6243 - val_accuracy: 0.7656 - val_loss: 0.6154\n",
            "Epoch 10/60\n",
            "\u001b[1m30/30\u001b[0m \u001b[32m━━━━━━━━━━━━━━━━━━━━\u001b[0m\u001b[37m\u001b[0m \u001b[1m2s\u001b[0m 69ms/step - accuracy: 0.7955 - loss: 0.6039 - val_accuracy: 0.7795 - val_loss: 0.5960\n",
            "Epoch 11/60\n",
            "\u001b[1m30/30\u001b[0m \u001b[32m━━━━━━━━━━━━━━━━━━━━\u001b[0m\u001b[37m\u001b[0m \u001b[1m2s\u001b[0m 77ms/step - accuracy: 0.8025 - loss: 0.5838 - val_accuracy: 0.7922 - val_loss: 0.5757\n",
            "Epoch 12/60\n",
            "\u001b[1m30/30\u001b[0m \u001b[32m━━━━━━━━━━━━━━━━━━━━\u001b[0m\u001b[37m\u001b[0m \u001b[1m2s\u001b[0m 69ms/step - accuracy: 0.8174 - loss: 0.5613 - val_accuracy: 0.8021 - val_loss: 0.5546\n",
            "Epoch 13/60\n",
            "\u001b[1m30/30\u001b[0m \u001b[32m━━━━━━━━━━━━━━━━━━━━\u001b[0m\u001b[37m\u001b[0m \u001b[1m3s\u001b[0m 79ms/step - accuracy: 0.8287 - loss: 0.5376 - val_accuracy: 0.8089 - val_loss: 0.5341\n",
            "Epoch 14/60\n",
            "\u001b[1m30/30\u001b[0m \u001b[32m━━━━━━━━━━━━━━━━━━━━\u001b[0m\u001b[37m\u001b[0m \u001b[1m2s\u001b[0m 73ms/step - accuracy: 0.8337 - loss: 0.5167 - val_accuracy: 0.8123 - val_loss: 0.5138\n",
            "Epoch 15/60\n",
            "\u001b[1m30/30\u001b[0m \u001b[32m━━━━━━━━━━━━━━━━━━━━\u001b[0m\u001b[37m\u001b[0m \u001b[1m3s\u001b[0m 76ms/step - accuracy: 0.8377 - loss: 0.4952 - val_accuracy: 0.8211 - val_loss: 0.4933\n",
            "Epoch 16/60\n",
            "\u001b[1m30/30\u001b[0m \u001b[32m━━━━━━━━━━━━━━━━━━━━\u001b[0m\u001b[37m\u001b[0m \u001b[1m2s\u001b[0m 76ms/step - accuracy: 0.8478 - loss: 0.4706 - val_accuracy: 0.8220 - val_loss: 0.4748\n",
            "Epoch 17/60\n",
            "\u001b[1m30/30\u001b[0m \u001b[32m━━━━━━━━━━━━━━━━━━━━\u001b[0m\u001b[37m\u001b[0m \u001b[1m3s\u001b[0m 75ms/step - accuracy: 0.8523 - loss: 0.4509 - val_accuracy: 0.8295 - val_loss: 0.4565\n",
            "Epoch 18/60\n",
            "\u001b[1m30/30\u001b[0m \u001b[32m━━━━━━━━━━━━━━━━━━━━\u001b[0m\u001b[37m\u001b[0m \u001b[1m2s\u001b[0m 72ms/step - accuracy: 0.8585 - loss: 0.4310 - val_accuracy: 0.8364 - val_loss: 0.4400\n",
            "Epoch 19/60\n",
            "\u001b[1m30/30\u001b[0m \u001b[32m━━━━━━━━━━━━━━━━━━━━\u001b[0m\u001b[37m\u001b[0m \u001b[1m3s\u001b[0m 72ms/step - accuracy: 0.8593 - loss: 0.4119 - val_accuracy: 0.8367 - val_loss: 0.4260\n",
            "Epoch 20/60\n",
            "\u001b[1m30/30\u001b[0m \u001b[32m━━━━━━━━━━━━━━━━━━━━\u001b[0m\u001b[37m\u001b[0m \u001b[1m2s\u001b[0m 69ms/step - accuracy: 0.8627 - loss: 0.3948 - val_accuracy: 0.8427 - val_loss: 0.4118\n",
            "Epoch 21/60\n",
            "\u001b[1m30/30\u001b[0m \u001b[32m━━━━━━━━━━━━━━━━━━━━\u001b[0m\u001b[37m\u001b[0m \u001b[1m3s\u001b[0m 76ms/step - accuracy: 0.8696 - loss: 0.3775 - val_accuracy: 0.8469 - val_loss: 0.3997\n",
            "Epoch 22/60\n",
            "\u001b[1m30/30\u001b[0m \u001b[32m━━━━━━━━━━━━━━━━━━━━\u001b[0m\u001b[37m\u001b[0m \u001b[1m2s\u001b[0m 76ms/step - accuracy: 0.8780 - loss: 0.3603 - val_accuracy: 0.8460 - val_loss: 0.3916\n",
            "Epoch 23/60\n",
            "\u001b[1m30/30\u001b[0m \u001b[32m━━━━━━━━━━━━━━━━━━━━\u001b[0m\u001b[37m\u001b[0m \u001b[1m2s\u001b[0m 73ms/step - accuracy: 0.8787 - loss: 0.3479 - val_accuracy: 0.8488 - val_loss: 0.3823\n",
            "Epoch 24/60\n",
            "\u001b[1m30/30\u001b[0m \u001b[32m━━━━━━━━━━━━━━━━━━━━\u001b[0m\u001b[37m\u001b[0m \u001b[1m2s\u001b[0m 75ms/step - accuracy: 0.8821 - loss: 0.3361 - val_accuracy: 0.8556 - val_loss: 0.3708\n",
            "Epoch 25/60\n",
            "\u001b[1m30/30\u001b[0m \u001b[32m━━━━━━━━━━━━━━━━━━━━\u001b[0m\u001b[37m\u001b[0m \u001b[1m2s\u001b[0m 75ms/step - accuracy: 0.8861 - loss: 0.3279 - val_accuracy: 0.8573 - val_loss: 0.3638\n",
            "Epoch 26/60\n",
            "\u001b[1m30/30\u001b[0m \u001b[32m━━━━━━━━━━━━━━━━━━━━\u001b[0m\u001b[37m\u001b[0m \u001b[1m2s\u001b[0m 68ms/step - accuracy: 0.8923 - loss: 0.3111 - val_accuracy: 0.8594 - val_loss: 0.3578\n",
            "Epoch 27/60\n",
            "\u001b[1m30/30\u001b[0m \u001b[32m━━━━━━━━━━━━━━━━━━━━\u001b[0m\u001b[37m\u001b[0m \u001b[1m3s\u001b[0m 68ms/step - accuracy: 0.8947 - loss: 0.3049 - val_accuracy: 0.8604 - val_loss: 0.3526\n",
            "Epoch 28/60\n",
            "\u001b[1m30/30\u001b[0m \u001b[32m━━━━━━━━━━━━━━━━━━━━\u001b[0m\u001b[37m\u001b[0m \u001b[1m3s\u001b[0m 76ms/step - accuracy: 0.8994 - loss: 0.2983 - val_accuracy: 0.8623 - val_loss: 0.3451\n",
            "Epoch 29/60\n",
            "\u001b[1m30/30\u001b[0m \u001b[32m━━━━━━━━━━━━━━━━━━━━\u001b[0m\u001b[37m\u001b[0m \u001b[1m3s\u001b[0m 78ms/step - accuracy: 0.8986 - loss: 0.2902 - val_accuracy: 0.8625 - val_loss: 0.3401\n",
            "Epoch 30/60\n",
            "\u001b[1m30/30\u001b[0m \u001b[32m━━━━━━━━━━━━━━━━━━━━\u001b[0m\u001b[37m\u001b[0m \u001b[1m2s\u001b[0m 75ms/step - accuracy: 0.9028 - loss: 0.2782 - val_accuracy: 0.8657 - val_loss: 0.3359\n",
            "Epoch 31/60\n",
            "\u001b[1m30/30\u001b[0m \u001b[32m━━━━━━━━━━━━━━━━━━━━\u001b[0m\u001b[37m\u001b[0m \u001b[1m3s\u001b[0m 75ms/step - accuracy: 0.9053 - loss: 0.2721 - val_accuracy: 0.8650 - val_loss: 0.3348\n",
            "Epoch 32/60\n",
            "\u001b[1m30/30\u001b[0m \u001b[32m━━━━━━━━━━━━━━━━━━━━\u001b[0m\u001b[37m\u001b[0m \u001b[1m2s\u001b[0m 76ms/step - accuracy: 0.9136 - loss: 0.2578 - val_accuracy: 0.8670 - val_loss: 0.3292\n",
            "Epoch 33/60\n",
            "\u001b[1m30/30\u001b[0m \u001b[32m━━━━━━━━━━━━━━━━━━━━\u001b[0m\u001b[37m\u001b[0m \u001b[1m2s\u001b[0m 68ms/step - accuracy: 0.9133 - loss: 0.2535 - val_accuracy: 0.8654 - val_loss: 0.3290\n",
            "Epoch 34/60\n",
            "\u001b[1m30/30\u001b[0m \u001b[32m━━━━━━━━━━━━━━━━━━━━\u001b[0m\u001b[37m\u001b[0m \u001b[1m3s\u001b[0m 81ms/step - accuracy: 0.9191 - loss: 0.2464 - val_accuracy: 0.8708 - val_loss: 0.3234\n",
            "Epoch 35/60\n",
            "\u001b[1m30/30\u001b[0m \u001b[32m━━━━━━━━━━━━━━━━━━━━\u001b[0m\u001b[37m\u001b[0m \u001b[1m2s\u001b[0m 68ms/step - accuracy: 0.9275 - loss: 0.2344 - val_accuracy: 0.8710 - val_loss: 0.3194\n",
            "Epoch 36/60\n",
            "\u001b[1m30/30\u001b[0m \u001b[32m━━━━━━━━━━━━━━━━━━━━\u001b[0m\u001b[37m\u001b[0m \u001b[1m3s\u001b[0m 68ms/step - accuracy: 0.9254 - loss: 0.2323 - val_accuracy: 0.8743 - val_loss: 0.3169\n",
            "Epoch 37/60\n",
            "\u001b[1m30/30\u001b[0m \u001b[32m━━━━━━━━━━━━━━━━━━━━\u001b[0m\u001b[37m\u001b[0m \u001b[1m2s\u001b[0m 65ms/step - accuracy: 0.9208 - loss: 0.2329 - val_accuracy: 0.8695 - val_loss: 0.3182\n",
            "Epoch 38/60\n",
            "\u001b[1m30/30\u001b[0m \u001b[32m━━━━━━━━━━━━━━━━━━━━\u001b[0m\u001b[37m\u001b[0m \u001b[1m3s\u001b[0m 69ms/step - accuracy: 0.9266 - loss: 0.2252 - val_accuracy: 0.8739 - val_loss: 0.3134\n",
            "Epoch 39/60\n",
            "\u001b[1m30/30\u001b[0m \u001b[32m━━━━━━━━━━━━━━━━━━━━\u001b[0m\u001b[37m\u001b[0m \u001b[1m2s\u001b[0m 76ms/step - accuracy: 0.9308 - loss: 0.2167 - val_accuracy: 0.8726 - val_loss: 0.3123\n",
            "Epoch 40/60\n",
            "\u001b[1m30/30\u001b[0m \u001b[32m━━━━━━━━━━━━━━━━━━━━\u001b[0m\u001b[37m\u001b[0m \u001b[1m2s\u001b[0m 78ms/step - accuracy: 0.9351 - loss: 0.2104 - val_accuracy: 0.8708 - val_loss: 0.3122\n",
            "Epoch 41/60\n",
            "\u001b[1m30/30\u001b[0m \u001b[32m━━━━━━━━━━━━━━━━━━━━\u001b[0m\u001b[37m\u001b[0m \u001b[1m2s\u001b[0m 76ms/step - accuracy: 0.9369 - loss: 0.2037 - val_accuracy: 0.8756 - val_loss: 0.3089\n",
            "Epoch 42/60\n",
            "\u001b[1m30/30\u001b[0m \u001b[32m━━━━━━━━━━━━━━━━━━━━\u001b[0m\u001b[37m\u001b[0m \u001b[1m2s\u001b[0m 70ms/step - accuracy: 0.9357 - loss: 0.2018 - val_accuracy: 0.8739 - val_loss: 0.3080\n",
            "Epoch 43/60\n",
            "\u001b[1m30/30\u001b[0m \u001b[32m━━━━━━━━━━━━━━━━━━━━\u001b[0m\u001b[37m\u001b[0m \u001b[1m3s\u001b[0m 69ms/step - accuracy: 0.9390 - loss: 0.1935 - val_accuracy: 0.8774 - val_loss: 0.3072\n",
            "Epoch 44/60\n",
            "\u001b[1m30/30\u001b[0m \u001b[32m━━━━━━━━━━━━━━━━━━━━\u001b[0m\u001b[37m\u001b[0m \u001b[1m2s\u001b[0m 73ms/step - accuracy: 0.9402 - loss: 0.1953 - val_accuracy: 0.8773 - val_loss: 0.3067\n",
            "Epoch 45/60\n",
            "\u001b[1m30/30\u001b[0m \u001b[32m━━━━━━━━━━━━━━━━━━━━\u001b[0m\u001b[37m\u001b[0m \u001b[1m3s\u001b[0m 73ms/step - accuracy: 0.9452 - loss: 0.1852 - val_accuracy: 0.8756 - val_loss: 0.3041\n",
            "Epoch 46/60\n",
            "\u001b[1m30/30\u001b[0m \u001b[32m━━━━━━━━━━━━━━━━━━━━\u001b[0m\u001b[37m\u001b[0m \u001b[1m2s\u001b[0m 58ms/step - accuracy: 0.9466 - loss: 0.1756 - val_accuracy: 0.8728 - val_loss: 0.3072\n",
            "Epoch 47/60\n",
            "\u001b[1m30/30\u001b[0m \u001b[32m━━━━━━━━━━━━━━━━━━━━\u001b[0m\u001b[37m\u001b[0m \u001b[1m2s\u001b[0m 69ms/step - accuracy: 0.9486 - loss: 0.1780 - val_accuracy: 0.8770 - val_loss: 0.3025\n",
            "Epoch 48/60\n",
            "\u001b[1m30/30\u001b[0m \u001b[32m━━━━━━━━━━━━━━━━━━━━\u001b[0m\u001b[37m\u001b[0m \u001b[1m2s\u001b[0m 76ms/step - accuracy: 0.9500 - loss: 0.1708 - val_accuracy: 0.8772 - val_loss: 0.3021\n",
            "Epoch 49/60\n",
            "\u001b[1m30/30\u001b[0m \u001b[32m━━━━━━━━━━━━━━━━━━━━\u001b[0m\u001b[37m\u001b[0m \u001b[1m2s\u001b[0m 59ms/step - accuracy: 0.9529 - loss: 0.1683 - val_accuracy: 0.8778 - val_loss: 0.3021\n",
            "Epoch 50/60\n",
            "\u001b[1m30/30\u001b[0m \u001b[32m━━━━━━━━━━━━━━━━━━━━\u001b[0m\u001b[37m\u001b[0m \u001b[1m2s\u001b[0m 77ms/step - accuracy: 0.9551 - loss: 0.1621 - val_accuracy: 0.8772 - val_loss: 0.3012\n",
            "Epoch 51/60\n",
            "\u001b[1m30/30\u001b[0m \u001b[32m━━━━━━━━━━━━━━━━━━━━\u001b[0m\u001b[37m\u001b[0m \u001b[1m2s\u001b[0m 73ms/step - accuracy: 0.9530 - loss: 0.1633 - val_accuracy: 0.8770 - val_loss: 0.3008\n",
            "Epoch 52/60\n",
            "\u001b[1m30/30\u001b[0m \u001b[32m━━━━━━━━━━━━━━━━━━━━\u001b[0m\u001b[37m\u001b[0m \u001b[1m2s\u001b[0m 58ms/step - accuracy: 0.9584 - loss: 0.1536 - val_accuracy: 0.8766 - val_loss: 0.3008\n",
            "Epoch 53/60\n",
            "\u001b[1m30/30\u001b[0m \u001b[32m━━━━━━━━━━━━━━━━━━━━\u001b[0m\u001b[37m\u001b[0m \u001b[1m3s\u001b[0m 76ms/step - accuracy: 0.9619 - loss: 0.1481 - val_accuracy: 0.8787 - val_loss: 0.3008\n",
            "Epoch 54/60\n",
            "\u001b[1m30/30\u001b[0m \u001b[32m━━━━━━━━━━━━━━━━━━━━\u001b[0m\u001b[37m\u001b[0m \u001b[1m2s\u001b[0m 66ms/step - accuracy: 0.9594 - loss: 0.1510 - val_accuracy: 0.8755 - val_loss: 0.3057\n",
            "Epoch 55/60\n",
            "\u001b[1m30/30\u001b[0m \u001b[32m━━━━━━━━━━━━━━━━━━━━\u001b[0m\u001b[37m\u001b[0m \u001b[1m2s\u001b[0m 62ms/step - accuracy: 0.9637 - loss: 0.1453 - val_accuracy: 0.8757 - val_loss: 0.3024\n",
            "Epoch 56/60\n",
            "\u001b[1m30/30\u001b[0m \u001b[32m━━━━━━━━━━━━━━━━━━━━\u001b[0m\u001b[37m\u001b[0m \u001b[1m2s\u001b[0m 69ms/step - accuracy: 0.9668 - loss: 0.1400 - val_accuracy: 0.8764 - val_loss: 0.3019\n",
            "Training set results\n",
            "\taccuracy   0.961133\n",
            "\tloss       0.150382\n",
            "Validation set results\n",
            "\taccuracy   0.8787\n",
            "\tloss       0.300768\n",
            "Test set results\n",
            "\taccuracy   0.87068\n",
            "\tloss       0.308185\n"
          ]
        }
      ]
    },
    {
      "cell_type": "code",
      "source": [
        "from matplotlib import pyplot as plt\n",
        "\n",
        "subplot_kwords = {\n",
        "    # \"xticks\": list(range(len(history_3.history[\"accuracy\"]))),\n",
        "    \"xlabel\": \"Epoch no.\",\n",
        "    \"ylabel\": \"Accuracy, Loss\",\n",
        "    \"ylim\": (0, None)\n",
        "}\n",
        "\n",
        "fig, axs = plt.subplots(2, 1, subplot_kw=subplot_kwords, layout=\"tight\", sharex=True)\n",
        "axs[0].set_title(\"Accuracy\")\n",
        "axs[0].plot(history_3.history[\"accuracy\"], label=\"training\")\n",
        "axs[0].plot(history_3.history[\"val_accuracy\"], label=\"validation\")\n",
        "\n",
        "axs[1].set_title(\"Validation set metrics\")\n",
        "axs[1].plot(history_3.history[\"loss\"], label=\"training\")\n",
        "axs[1].plot(history_3.history[\"val_loss\"], label=\"validation\")\n",
        "\n",
        "axs[0].legend(loc=\"best\")\n",
        "axs[1].legend(loc=\"best\")\n",
        "# fig.tight_layout()\n",
        "\n",
        "fig.show()"
      ],
      "metadata": {
        "colab": {
          "base_uri": "https://localhost:8080/",
          "height": 487
        },
        "id": "dwfTP6kRnvs6",
        "outputId": "425ca636-7e2b-4b0f-cbd4-58a878872129"
      },
      "execution_count": 30,
      "outputs": [
        {
          "output_type": "display_data",
          "data": {
            "text/plain": [
              "<Figure size 640x480 with 2 Axes>"
            ],
            "image/png": "[encoded data removed]"
          },
          "metadata": {}
        }
      ]
    },
    {
      "cell_type": "code",
      "execution_count": null,
      "metadata": {
        "id": "G-Tlm1axefyh"
      },
      "outputs": [],
      "source": [
        "from keras.callbacks import EarlyStopping\n",
        "early_stopping = EarlyStopping(monitor=\"val_loss\", patience=3, restore_best_weights=True)"
      ]
    },
    {
      "cell_type": "code",
      "execution_count": null,
      "metadata": {
        "id": "_hMG-lwrefyh",
        "outputId": "65fae3b9-b253-4641-9f6b-9aea6d462ff7"
      },
      "outputs": [
        {
          "data": {
            "text/plain": [
              "Reusing TensorBoard on port 6006 (pid 19008), started 1:19:48 ago. (Use '!kill 19008' to kill it.)"
            ]
          },
          "metadata": {},
          "output_type": "display_data"
        },
        {
          "data": {
            "text/html": [
              "\n",
              "      <iframe id=\"tensorboard-frame-d732e7ea86a2ba29\" width=\"100%\" height=\"800\" frameborder=\"0\">\n",
              "      </iframe>\n",
              "      <script>\n",
              "        (function() {\n",
              "          const frame = document.getElementById(\"tensorboard-frame-d732e7ea86a2ba29\");\n",
              "          const url = new URL(\"http://localhost\");\n",
              "          const port = 6006;\n",
              "          if (port) {\n",
              "            url.port = port;\n",
              "          }\n",
              "          frame.src = url;\n",
              "        })();\n",
              "      </script>\n",
              "    "
            ],
            "text/plain": [
              "<IPython.core.display.HTML object>"
            ]
          },
          "metadata": {},
          "output_type": "display_data"
        }
      ],
      "source": [
        "###############################################\n",
        "# Load TensorBoard notebook extension\n",
        "%load_ext tensorboard\n",
        "\n",
        "# Start TensorBoard before training begins\n",
        "%tensorboard --logdir logs/fit_imdb --reload_interval=1"
      ]
    }
  ],
  "metadata": {
    "accelerator": "GPU",
    "colab": {
      "gpuType": "T4",
      "provenance": [],
      "include_colab_link": true
    },
    "kernelspec": {
      "display_name": "Python 3",
      "name": "python3"
    },
    "language_info": {
      "codemirror_mode": {
        "name": "ipython",
        "version": 3
      },
      "file_extension": ".py",
      "mimetype": "text/x-python",
      "name": "python",
      "nbconvert_exporter": "python",
      "pygments_lexer": "ipython3",
      "version": "3.11.4"
    }
  },
  "nbformat": 4,
  "nbformat_minor": 0
}